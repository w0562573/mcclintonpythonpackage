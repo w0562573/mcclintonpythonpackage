{
 "cells": [
  {
   "cell_type": "markdown",
   "metadata": {},
   "source": [
    "# Project Three\n",
    "\n",
    "Here's what you're going to do.\n",
    "\n",
    "## Part One\n",
    "\n",
    "You're going to run each of the functions in the package.\n",
    "\n",
    "(15 pts each Error 1, Error 2, Error 3)"
   ]
  },
  {
   "cell_type": "markdown",
   "metadata": {},
   "source": [
    "1) Error 1 - paste in the traceback. \n",
    "\n",
    "\n"
   ]
  },
  {
   "cell_type": "code",
   "execution_count": null,
   "metadata": {},
   "outputs": [],
   "source": [
    "Traceback (most recent call last):\n",
    "\n",
    "  File \"/opt/tljh/user/lib/python3.6/site-packages/IPython/core/interactiveshell.py\", line 2961, in run_code\n",
    "    exec(code_obj, self.user_global_ns, self.user_ns)\n",
    "\n",
    "  File \"<ipython-input-39-605271910cf5>\", line 1, in <module>\n",
    "    import mcclintonpythonpackage\n",
    "\n",
    "  File \"/home/jupyter-sydnie/.local/lib/python3.6/site-packages/mcclintonpythonpackage/__init__.py\", line 2, in <module>\n",
    "    from .sequence_cleanup import sequence_cleanup\n",
    "\n",
    "  File \"/home/jupyter-sydnie/.local/lib/python3.6/site-packages/mcclintonpythonpackage/sequence_cleanup.py\", line 7\n",
    "    assert sequence_set(taxon)\n",
    "         ^\n",
    "IndentationError: expected an indented block"
   ]
  },
  {
   "cell_type": "markdown",
   "metadata": {},
   "source": [
    "2) Error 1 - What type of error is this? In your own words, what went wrong?"
   ]
  },
  {
   "cell_type": "code",
   "execution_count": null,
   "metadata": {},
   "outputs": [],
   "source": [
    "# IndentationError: expected an indented block. I was supposed to indent with the tab key on line 7 of my sequence_cleanup.py."
   ]
  },
  {
   "cell_type": "markdown",
   "metadata": {},
   "source": [
    "3) Error 1 - Resolve this. In your own words, _how_ did you resolve the error? "
   ]
  },
  {
   "cell_type": "code",
   "execution_count": null,
   "metadata": {},
   "outputs": [],
   "source": [
    "# I had to go into sequence_cleanup.py and fix my indentation and re-install. Then after, I had to go into sequence_reader.py and fix my indentation and re-install."
   ]
  },
  {
   "cell_type": "markdown",
   "metadata": {},
   "source": [
    "No Points) If you googled the error, paste in a link to a website you found helpful."
   ]
  },
  {
   "cell_type": "markdown",
   "metadata": {},
   "source": [
    "5) Error 2 - paste in the traceback. \n",
    "\n",
    "\n"
   ]
  },
  {
   "cell_type": "code",
   "execution_count": null,
   "metadata": {},
   "outputs": [],
   "source": [
    "---------------------------------------------------------------------------\n",
    "PermissionError                           Traceback (most recent call last)\n",
    "<ipython-input-3-b1c6fe79052c> in <module>()\n",
    "----> 1 mpp.sequence_cleanup(DnaCharacter, \"../outfile\", \"Plethodon_kentucki\", 4097, 5236)\n",
    "\n",
    "~/.local/lib/python3.6/site-packages/mcclintonpythonpackage/sequence_cleanup.py in sequence_cleanup(sequence_set, out_file, taxon, gene_start, gene_end)\n",
    "      7     my_taxon_sequence = sequence_set[taxon].symbols_as_string()\n",
    "      8     my_taxon_sequence = my_taxon_sequence[gene_start: gene_end]\n",
    "----> 9     ofile = open(out_file, \"w\")\n",
    "     10     ofile.write(\">\" + taxon + \"\\n\" + my_taxon_sequence + \"\\n\")\n",
    "     11     ofile.close()\n",
    "\n",
    "PermissionError: [Errno 13] Permission denied: '../outfile'"
   ]
  },
  {
   "cell_type": "markdown",
   "metadata": {},
   "source": [
    "6) Error 2 - What type of error is this? In your own words, what went wrong?"
   ]
  },
  {
   "cell_type": "code",
   "execution_count": null,
   "metadata": {},
   "outputs": [],
   "source": [
    "#PermissionError: [Errno 13] Permission denied: '../outfile'. My file is located somewhere where python can't access it"
   ]
  },
  {
   "cell_type": "markdown",
   "metadata": {},
   "source": [
    "7) Error 2 - Resolve this. In your own words, _how_ did you resolve the error? "
   ]
  },
  {
   "cell_type": "code",
   "execution_count": null,
   "metadata": {},
   "outputs": [],
   "source": [
    "#To resolve this I had to move my file to a new directory. I put it in the data directory"
   ]
  },
  {
   "cell_type": "markdown",
   "metadata": {},
   "source": [
    "No Points) If you googled the error, paste in a link to a website you found helpful."
   ]
  },
  {
   "cell_type": "markdown",
   "metadata": {},
   "source": [
    "8) Error 3 - paste in the traceback. \n"
   ]
  },
  {
   "cell_type": "code",
   "execution_count": null,
   "metadata": {},
   "outputs": [],
   "source": [
    "---------------------------------------------------------------------------\n",
    "TypeError                                 Traceback (most recent call last)\n",
    "<ipython-input-48-dc191241c014> in <module>()\n",
    "----> 1 mcclintonpythonpackage.sequence_reader()\n",
    "\n",
    "TypeError: sequence_reader() missing 1 required positional argument: 'filepath'\n"
   ]
  },
  {
   "cell_type": "markdown",
   "metadata": {},
   "source": [
    "9) Error 3 - What type of error is this? In your own words, what went wrong?"
   ]
  },
  {
   "cell_type": "code",
   "execution_count": null,
   "metadata": {},
   "outputs": [],
   "source": [
    "# TypeError: sequence_reader() missing 1 required positional argument: 'filepath'. The problem is that I didn't write an argument to sequence_reader.py, but I am calling an argument"
   ]
  },
  {
   "cell_type": "markdown",
   "metadata": {},
   "source": [
    "10) Error 2 - Resolve this. In your own words, _how_ did you resolve the error? "
   ]
  },
  {
   "cell_type": "code",
   "execution_count": null,
   "metadata": {},
   "outputs": [],
   "source": [
    "# I had to put the file pathway to the plethodon.phy file. It was CompBio2018.git/data/plethodon.phy "
   ]
  },
  {
   "cell_type": "markdown",
   "metadata": {},
   "source": [
    "11) Google one of errors. What search phrase actually got you helpful results?"
   ]
  },
  {
   "cell_type": "code",
   "execution_count": null,
   "metadata": {},
   "outputs": [],
   "source": [
    "# I googled my first error. My search phrase that got me results was \"indentation block error in python\"."
   ]
  },
  {
   "cell_type": "markdown",
   "metadata": {},
   "source": [
    "## Part Two \n",
    "\n",
    "You're going to add one function to the package. "
   ]
  },
  {
   "cell_type": "markdown",
   "metadata": {},
   "source": [
    "1) (15pts) The function should be in its own file"
   ]
  },
  {
   "cell_type": "markdown",
   "metadata": {},
   "source": [
    "2) (15 pts) You should write a docstring so I know what the function does"
   ]
  },
  {
   "cell_type": "markdown",
   "metadata": {},
   "source": [
    "3) (15 pts) The function should contain either a precondition, or a postcondition"
   ]
  },
  {
   "cell_type": "markdown",
   "metadata": {},
   "source": [
    "## Part Three\n",
    "(10 pts)\n",
    "Add all your files, commit the files, and push them to your GitHub. Also include a copy of this notebook in the package. "
   ]
  },
  {
   "cell_type": "code",
   "execution_count": null,
   "metadata": {},
   "outputs": [],
   "source": []
  }
 ],
 "metadata": {
  "kernelspec": {
   "display_name": "Python 3",
   "language": "python",
   "name": "python3"
  },
  "language_info": {
   "codemirror_mode": {
    "name": "ipython",
    "version": 3
   },
   "file_extension": ".py",
   "mimetype": "text/x-python",
   "name": "python",
   "nbconvert_exporter": "python",
   "pygments_lexer": "ipython3",
   "version": "3.6.6"
  },
  "latex_envs": {
   "LaTeX_envs_menu_present": true,
   "autoclose": false,
   "autocomplete": true,
   "bibliofile": "biblio.bib",
   "cite_by": "apalike",
   "current_citInitial": 1,
   "eqLabelWithNumbers": true,
   "eqNumInitial": 1,
   "hotkeys": {
    "equation": "Ctrl-E",
    "itemize": "Ctrl-I"
   },
   "labels_anchors": false,
   "latex_user_defs": false,
   "report_style_numbering": false,
   "user_envs_cfg": false
  },
  "toc": {
   "base_numbering": 1,
   "nav_menu": {},
   "number_sections": true,
   "sideBar": true,
   "skip_h1_title": false,
   "title_cell": "Table of Contents",
   "title_sidebar": "Contents",
   "toc_cell": false,
   "toc_position": {},
   "toc_section_display": true,
   "toc_window_display": false
  }
 },
 "nbformat": 4,
 "nbformat_minor": 2
}
